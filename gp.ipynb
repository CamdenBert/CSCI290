{
  "nbformat": 4,
  "nbformat_minor": 0,
  "metadata": {
    "colab": {
      "provenance": [],
      "include_colab_link": true
    },
    "kernelspec": {
      "name": "python3",
      "display_name": "Python 3"
    },
    "language_info": {
      "name": "python"
    }
  },
  "cells": [
    {
      "cell_type": "markdown",
      "metadata": {
        "id": "view-in-github",
        "colab_type": "text"
      },
      "source": [
        "<a href=\"https://colab.research.google.com/github/CamdenBert/CSCI290/blob/main/gp.ipynb\" target=\"_parent\"><img src=\"https://colab.research.google.com/assets/colab-badge.svg\" alt=\"Open In Colab\"/></a>"
      ]
    },
    {
      "cell_type": "code",
      "source": [
        "import pandas as pd\n",
        "import numpy as np\n",
        "from sklearn.tree import DecisionTreeRegressor\n",
        "from sklearn.tree import DecisionTreeClassifier\n",
        "from sklearn.preprocessing import LabelEncoder\n",
        "from sklearn import tree\n",
        "import math\n",
        "import matplotlib.pyplot as plt"
      ],
      "metadata": {
        "id": "tWvb4HwcrsNU"
      },
      "execution_count": null,
      "outputs": []
    },
    {
      "cell_type": "code",
      "execution_count": null,
      "metadata": {
        "id": "T7S6b-p8qiYG"
      },
      "outputs": [],
      "source": [
        "df=pd.read_csv('https://raw.githubusercontent.com/jhbellingrath/CS-290-Classwork/refs/heads/main/data/survey%20lung%20cancer.csv')"
      ]
    },
    {
      "cell_type": "code",
      "source": [
        "target=\"LUNG_CANCER\""
      ],
      "metadata": {
        "id": "bqnygyHUrtt1"
      },
      "execution_count": null,
      "outputs": []
    },
    {
      "cell_type": "code",
      "source": [
        "attributes=df.columns[df.columns!=target]\n",
        "attributes=attributes.drop(\"AGE\")\n",
        "attributes"
      ],
      "metadata": {
        "colab": {
          "base_uri": "https://localhost:8080/"
        },
        "id": "46Ux4OsHsGdK",
        "outputId": "8f492ade-b1b8-4fe4-8ed0-55c2ba8ea9b1"
      },
      "execution_count": null,
      "outputs": [
        {
          "output_type": "execute_result",
          "data": {
            "text/plain": [
              "Index(['GENDER', 'SMOKING', 'YELLOW_FINGERS', 'ANXIETY', 'PEER_PRESSURE',\n",
              "       'CHRONIC DISEASE', 'FATIGUE ', 'ALLERGY ', 'WHEEZING',\n",
              "       'ALCOHOL CONSUMING', 'COUGHING', 'SHORTNESS OF BREATH',\n",
              "       'SWALLOWING DIFFICULTY', 'CHEST PAIN'],\n",
              "      dtype='object')"
            ]
          },
          "metadata": {},
          "execution_count": 213
        }
      ]
    },
    {
      "cell_type": "code",
      "source": [
        "# entropy function for qualitative\n",
        "def entropy(attribute):\n",
        "  entropy = 0\n",
        "  total = len( df )\n",
        "  vals = df[attribute].unique()\n",
        "  for val in vals:\n",
        "    counts = len(df[ df[attribute] == val ])\n",
        "    weight = counts / total\n",
        "    props = df[ df[attribute] == val ][target].value_counts( normalize=True )\n",
        "  for p in props.array:\n",
        "    entropy =  entropy - weight*(p*math.log2(p))\n",
        "  return entropy"
      ],
      "metadata": {
        "id": "NFTX7ClysHwA"
      },
      "execution_count": null,
      "outputs": []
    },
    {
      "cell_type": "code",
      "source": [
        "# Gini function\n",
        "def gini(attribute):\n",
        "  impurities=[]\n",
        "  vals=df[attribute].unique()\n",
        "  for val in vals:\n",
        "    impurity=0\n",
        "    impurity_left=1\n",
        "    weight=len(df[df[attribute]>=val])/len(df)\n",
        "    counts=(df[df[attribute]>=val][target].value_counts())\n",
        "    for count in counts.array:\n",
        "      impurity_left-=((count/(len(df)*weight))**2)\n",
        "    impurity+=impurity_left*weight\n",
        "    impurity_right=1\n",
        "    weight=len(df[df[attribute]<val])/len(df)\n",
        "    counts=(df[df[attribute]<val][target].value_counts())\n",
        "    for count in counts.array:\n",
        "      impurity_right-=((count/(len(df)*weight))**2)\n",
        "    impurity+=impurity_right*weight\n",
        "    impurities.append([impurity,val])\n",
        "  impurities.sort()\n",
        "  return impurities[0][0]"
      ],
      "metadata": {
        "id": "KK5ibtSQsLgV"
      },
      "execution_count": null,
      "outputs": []
    },
    {
      "cell_type": "code",
      "source": [
        "gini(\"ALLERGY \")"
      ],
      "metadata": {
        "colab": {
          "base_uri": "https://localhost:8080/"
        },
        "id": "R4mdjAuhWIwz",
        "outputId": "5b2f9472-2bb2-4c65-d820-a62f6359fc45"
      },
      "execution_count": null,
      "outputs": [
        {
          "output_type": "execute_result",
          "data": {
            "text/plain": [
              "0.19687181202855122"
            ]
          },
          "metadata": {},
          "execution_count": 216
        }
      ]
    },
    {
      "cell_type": "code",
      "source": [
        "#  entropy for a quantitative variable\n",
        "def entropy_quantitative(attribute):\n",
        "  entropies=[]\n",
        "  total = len(df)\n",
        "  vals = df[attribute].unique()\n",
        "  for val in vals:\n",
        "    entropy_value = 0\n",
        "    # Left split\n",
        "    left = df[df[attribute] <= val][[attribute, target]]\n",
        "    props = left[target].value_counts(normalize=True)\n",
        "    weight = len(left) / total\n",
        "    for prop in props.array:\n",
        "      entropy_value -= weight * prop * math.log2(prop)\n",
        "\n",
        "    # Right split\n",
        "    right = df[df[attribute] > val][[attribute, target]]\n",
        "    props = right[target].value_counts(normalize=True)\n",
        "    weight = len(right) / total\n",
        "    for prop in props.array:\n",
        "      entropy_value -= weight * prop * math.log2(prop)\n",
        "\n",
        "    entropies.append([entropy_value,val])\n",
        "  entropies.sort()\n",
        "  return entropies[0]\n",
        "  #returns a list of [entropy value,split value]"
      ],
      "metadata": {
        "id": "KCr_6hrWsRzE"
      },
      "execution_count": null,
      "outputs": []
    },
    {
      "cell_type": "code",
      "source": [
        "def Attribute_selection_method(data,task,target,impurity_measure):\n",
        "  attributes=data.columns[data.columns!=target]\n",
        "  if task==\"classification\":\n",
        "    if impurity_measure==\"entropy\":\n",
        "      entropies=[]\n",
        "      for attribute in attributes:\n",
        "        if len(data[attribute].unique())<5:\n",
        "          entropies.append([entropy(attribute),attribute])\n",
        "        else:\n",
        "          entropies.append(entropy_quantitative(attribute))\n",
        "      entropies.sort()\n",
        "      return \"The best attribute is \"+entropies[0][1]\n",
        "    if impurity_measure==\"gini\":\n",
        "      ginis=[]\n",
        "      for attribute in attributes:\n",
        "        ginis.append([gini(attribute),attribute])\n",
        "      ginis.sort()\n",
        "      return ginis\n",
        "      return \"The best attribute is \"+ginis[0][1]"
      ],
      "metadata": {
        "id": "KbhNCCFOUD3Y"
      },
      "execution_count": null,
      "outputs": []
    },
    {
      "cell_type": "code",
      "source": [
        "Attribute_selection_method(df,\"classification\",\"LUNG_CANCER\",\"gini\")"
      ],
      "metadata": {
        "colab": {
          "base_uri": "https://localhost:8080/"
        },
        "id": "p5nX7Y-0Wbbw",
        "outputId": "43fdb4df-d7a5-4daa-b0bf-2a40d04a1bc4"
      },
      "execution_count": null,
      "outputs": [
        {
          "output_type": "execute_result",
          "data": {
            "text/plain": [
              "[[0.19687181202855122, 'ALLERGY '],\n",
              " [0.2022049431995164, 'ALCOHOL CONSUMING'],\n",
              " [0.2056880629067421, 'SWALLOWING DIFFICULTY'],\n",
              " [0.20685907250322627, 'WHEEZING'],\n",
              " [0.20693922338441517, 'COUGHING'],\n",
              " [0.21256713795768778, 'CHEST PAIN'],\n",
              " [0.2129048527419966, 'PEER_PRESSURE'],\n",
              " [0.21331434278547207, 'YELLOW_FINGERS'],\n",
              " [0.21556004554899105, 'FATIGUE '],\n",
              " [0.21560963308536127, 'AGE'],\n",
              " [0.21593339325879257, 'ANXIETY'],\n",
              " [0.21785516131604077, 'CHRONIC DISEASE'],\n",
              " [0.21956978884086303, 'GENDER'],\n",
              " [0.21975373431684128, 'SHORTNESS OF BREATH'],\n",
              " [0.219820869859928, 'SMOKING']]"
            ]
          },
          "metadata": {},
          "execution_count": 219
        }
      ]
    },
    {
      "cell_type": "code",
      "source": [
        "# LabelEncoder\n",
        "le = LabelEncoder()"
      ],
      "metadata": {
        "id": "rd_s2uT6sc3v"
      },
      "execution_count": null,
      "outputs": []
    },
    {
      "cell_type": "code",
      "source": [
        "# target variable\n",
        "df[\"LUNG_CANCER\"] = le.fit_transform(df[\"LUNG_CANCER\"])"
      ],
      "metadata": {
        "id": "1Vw9Ie-1sfoA"
      },
      "execution_count": null,
      "outputs": []
    },
    {
      "cell_type": "code",
      "source": [
        "# Compare\n",
        "X = df.drop(columns=[\"LUNG_CANCER\"])\n",
        "y = df[\"LUNG_CANCER\"]"
      ],
      "metadata": {
        "id": "uG8vC__8sunu"
      },
      "execution_count": null,
      "outputs": []
    },
    {
      "cell_type": "code",
      "source": [
        "# Iterate over all columns in X\n",
        "for col in X.columns:\n",
        "    if X[col].dtype == 'object':  # Check if the column is object\n",
        "        X[col] = le.fit_transform(X[col])  # Fit and transform\n"
      ],
      "metadata": {
        "id": "o35lXBv1sxnJ"
      },
      "execution_count": null,
      "outputs": []
    },
    {
      "cell_type": "code",
      "source": [
        "clf = DecisionTreeClassifier(criterion='gini', max_depth=2)\n",
        "clf.fit(X, y)\n",
        "plt.figure(figsize=(12, 8))\n",
        "tree.plot_tree(clf, filled=True, feature_names=X.columns)\n",
        "plt.show()"
      ],
      "metadata": {
        "colab": {
          "base_uri": "https://localhost:8080/",
          "height": 653
        },
        "id": "vcnYcDVzszuw",
        "outputId": "b0d0831e-0ea7-4871-af0d-0671516517c6"
      },
      "execution_count": null,
      "outputs": [
        {
          "output_type": "display_data",
          "data": {
            "text/plain": [
              "<Figure size 1200x800 with 1 Axes>"
            ],
            "image/png": "[encoded data removed]"
          },
          "metadata": {}
        }
      ]
    },
    {
      "cell_type": "code",
      "source": [
        "# Get the first split attribute\n",
        "first_split_attribute = X.columns[clf.tree_.feature[0]]\n",
        "print(\"First attribute chosen by DecisionTreeClassifier:\", first_split_attribute)"
      ],
      "metadata": {
        "id": "sM_WmlODs3ba",
        "colab": {
          "base_uri": "https://localhost:8080/"
        },
        "outputId": "02517149-b20c-4197-b57d-1af2170d67f6"
      },
      "execution_count": null,
      "outputs": [
        {
          "output_type": "stream",
          "name": "stdout",
          "text": [
            "First attribute chosen by DecisionTreeClassifier: ALLERGY \n"
          ]
        }
      ]
    },
    {
      "cell_type": "code",
      "source": [
        "df2=pd.read_csv('https://raw.githubusercontent.com/jhbellingrath/CS-290-Classwork/refs/heads/main/data/Housing_Prices.csv')"
      ],
      "metadata": {
        "id": "SpMp-Cie3gR5"
      },
      "execution_count": null,
      "outputs": []
    },
    {
      "cell_type": "code",
      "source": [
        "df2.head()"
      ],
      "metadata": {
        "id": "zrQDKwlKMjcJ",
        "colab": {
          "base_uri": "https://localhost:8080/",
          "height": 204
        },
        "outputId": "9c46b500-9f93-47c7-c7f5-5cfce09a885b"
      },
      "execution_count": null,
      "outputs": [
        {
          "output_type": "execute_result",
          "data": {
            "text/plain": [
              "       price  bedrooms  bathrooms  sqft_living  sqft_lot  floors  waterfront  \\\n",
              "0   376000.0         3       2.00         1340      1384     3.0           0   \n",
              "1   800000.0         4       3.25         3540    159430     2.0           0   \n",
              "2  2238888.0         5       6.50         7270    130017     2.0           0   \n",
              "3   324000.0         3       2.25          998       904     2.0           0   \n",
              "4   549900.0         5       2.75         3060      7015     1.0           0   \n",
              "\n",
              "   view  condition  sqft_above  sqft_basement  yr_built  \n",
              "0     0          3        1340              0      2008  \n",
              "1     0          3        3540              0      2007  \n",
              "2     0          3        6420            850      2010  \n",
              "3     0          3         798            200      2007  \n",
              "4     0          5        1600           1460      1979  "
            ],
            "text/html": [
              "\n",
              "  <div id=\"df-f03323c9-d78b-4644-a1eb-a066913bab8f\" class=\"colab-df-container\">\n",
              "    <div>\n",
              "<style scoped>\n",
              "    .dataframe tbody tr th:only-of-type {\n",
              "        vertical-align: middle;\n",
              "    }\n",
              "\n",
              "    .dataframe tbody tr th {\n",
              "        vertical-align: top;\n",
              "    }\n",
              "\n",
              "    .dataframe thead th {\n",
              "        text-align: right;\n",
              "    }\n",
              "</style>\n",
              "<table border=\"1\" class=\"dataframe\">\n",
              "  <thead>\n",
              "    <tr style=\"text-align: right;\">\n",
              "      <th></th>\n",
              "      <th>price</th>\n",
              "      <th>bedrooms</th>\n",
              "      <th>bathrooms</th>\n",
              "      <th>sqft_living</th>\n",
              "      <th>sqft_lot</th>\n",
              "      <th>floors</th>\n",
              "      <th>waterfront</th>\n",
              "      <th>view</th>\n",
              "      <th>condition</th>\n",
              "      <th>sqft_above</th>\n",
              "      <th>sqft_basement</th>\n",
              "      <th>yr_built</th>\n",
              "    </tr>\n",
              "  </thead>\n",
              "  <tbody>\n",
              "    <tr>\n",
              "      <th>0</th>\n",
              "      <td>376000.0</td>\n",
              "      <td>3</td>\n",
              "      <td>2.00</td>\n",
              "      <td>1340</td>\n",
              "      <td>1384</td>\n",
              "      <td>3.0</td>\n",
              "      <td>0</td>\n",
              "      <td>0</td>\n",
              "      <td>3</td>\n",
              "      <td>1340</td>\n",
              "      <td>0</td>\n",
              "      <td>2008</td>\n",
              "    </tr>\n",
              "    <tr>\n",
              "      <th>1</th>\n",
              "      <td>800000.0</td>\n",
              "      <td>4</td>\n",
              "      <td>3.25</td>\n",
              "      <td>3540</td>\n",
              "      <td>159430</td>\n",
              "      <td>2.0</td>\n",
              "      <td>0</td>\n",
              "      <td>0</td>\n",
              "      <td>3</td>\n",
              "      <td>3540</td>\n",
              "      <td>0</td>\n",
              "      <td>2007</td>\n",
              "    </tr>\n",
              "    <tr>\n",
              "      <th>2</th>\n",
              "      <td>2238888.0</td>\n",
              "      <td>5</td>\n",
              "      <td>6.50</td>\n",
              "      <td>7270</td>\n",
              "      <td>130017</td>\n",
              "      <td>2.0</td>\n",
              "      <td>0</td>\n",
              "      <td>0</td>\n",
              "      <td>3</td>\n",
              "      <td>6420</td>\n",
              "      <td>850</td>\n",
              "      <td>2010</td>\n",
              "    </tr>\n",
              "    <tr>\n",
              "      <th>3</th>\n",
              "      <td>324000.0</td>\n",
              "      <td>3</td>\n",
              "      <td>2.25</td>\n",
              "      <td>998</td>\n",
              "      <td>904</td>\n",
              "      <td>2.0</td>\n",
              "      <td>0</td>\n",
              "      <td>0</td>\n",
              "      <td>3</td>\n",
              "      <td>798</td>\n",
              "      <td>200</td>\n",
              "      <td>2007</td>\n",
              "    </tr>\n",
              "    <tr>\n",
              "      <th>4</th>\n",
              "      <td>549900.0</td>\n",
              "      <td>5</td>\n",
              "      <td>2.75</td>\n",
              "      <td>3060</td>\n",
              "      <td>7015</td>\n",
              "      <td>1.0</td>\n",
              "      <td>0</td>\n",
              "      <td>0</td>\n",
              "      <td>5</td>\n",
              "      <td>1600</td>\n",
              "      <td>1460</td>\n",
              "      <td>1979</td>\n",
              "    </tr>\n",
              "  </tbody>\n",
              "</table>\n",
              "</div>\n",
              "    <div class=\"colab-df-buttons\">\n",
              "\n",
              "  <div class=\"colab-df-container\">\n",
              "    <button class=\"colab-df-convert\" onclick=\"convertToInteractive('df-f03323c9-d78b-4644-a1eb-a066913bab8f')\"\n",
              "            title=\"Convert this dataframe to an interactive table.\"\n",
              "            style=\"display:none;\">\n",
              "\n",
              "  <svg xmlns=\"http://www.w3.org/2000/svg\" height=\"24px\" viewBox=\"0 -960 960 960\">\n",
              "    <path d=\"M120-120v-720h720v720H120Zm60-500h600v-160H180v160Zm220 220h160v-160H400v160Zm0 220h160v-160H400v160ZM180-400h160v-160H180v160Zm440 0h160v-160H620v160ZM180-180h160v-160H180v160Zm440 0h160v-160H620v160Z\"/>\n",
              "  </svg>\n",
              "    </button>\n",
              "\n",
              "  <style>\n",
              "    .colab-df-container {\n",
              "      display:flex;\n",
              "      gap: 12px;\n",
              "    }\n",
              "\n",
              "    .colab-df-convert {\n",
              "      background-color: #E8F0FE;\n",
              "      border: none;\n",
              "      border-radius: 50%;\n",
              "      cursor: pointer;\n",
              "      display: none;\n",
              "      fill: #1967D2;\n",
              "      height: 32px;\n",
              "      padding: 0 0 0 0;\n",
              "      width: 32px;\n",
              "    }\n",
              "\n",
              "    .colab-df-convert:hover {\n",
              "      background-color: #E2EBFA;\n",
              "      box-shadow: 0px 1px 2px rgba(60, 64, 67, 0.3), 0px 1px 3px 1px rgba(60, 64, 67, 0.15);\n",
              "      fill: #174EA6;\n",
              "    }\n",
              "\n",
              "    .colab-df-buttons div {\n",
              "      margin-bottom: 4px;\n",
              "    }\n",
              "\n",
              "    [theme=dark] .colab-df-convert {\n",
              "      background-color: #3B4455;\n",
              "      fill: #D2E3FC;\n",
              "    }\n",
              "\n",
              "    [theme=dark] .colab-df-convert:hover {\n",
              "      background-color: #434B5C;\n",
              "      box-shadow: 0px 1px 3px 1px rgba(0, 0, 0, 0.15);\n",
              "      filter: drop-shadow(0px 1px 2px rgba(0, 0, 0, 0.3));\n",
              "      fill: #FFFFFF;\n",
              "    }\n",
              "  </style>\n",
              "\n",
              "    <script>\n",
              "      const buttonEl =\n",
              "        document.querySelector('#df-f03323c9-d78b-4644-a1eb-a066913bab8f button.colab-df-convert');\n",
              "      buttonEl.style.display =\n",
              "        google.colab.kernel.accessAllowed ? 'block' : 'none';\n",
              "\n",
              "      async function convertToInteractive(key) {\n",
              "        const element = document.querySelector('#df-f03323c9-d78b-4644-a1eb-a066913bab8f');\n",
              "        const dataTable =\n",
              "          await google.colab.kernel.invokeFunction('convertToInteractive',\n",
              "                                                    [key], {});\n",
              "        if (!dataTable) return;\n",
              "\n",
              "        const docLinkHtml = 'Like what you see? Visit the ' +\n",
              "          '<a target=\"_blank\" href=https://colab.research.google.com/notebooks/data_table.ipynb>data table notebook</a>'\n",
              "          + ' to learn more about interactive tables.';\n",
              "        element.innerHTML = '';\n",
              "        dataTable['output_type'] = 'display_data';\n",
              "        await google.colab.output.renderOutput(dataTable, element);\n",
              "        const docLink = document.createElement('div');\n",
              "        docLink.innerHTML = docLinkHtml;\n",
              "        element.appendChild(docLink);\n",
              "      }\n",
              "    </script>\n",
              "  </div>\n",
              "\n",
              "\n",
              "<div id=\"df-3a74a1cc-fa14-4f15-90d3-104c396c45a4\">\n",
              "  <button class=\"colab-df-quickchart\" onclick=\"quickchart('df-3a74a1cc-fa14-4f15-90d3-104c396c45a4')\"\n",
              "            title=\"Suggest charts\"\n",
              "            style=\"display:none;\">\n",
              "\n",
              "<svg xmlns=\"http://www.w3.org/2000/svg\" height=\"24px\"viewBox=\"0 0 24 24\"\n",
              "     width=\"24px\">\n",
              "    <g>\n",
              "        <path d=\"M19 3H5c-1.1 0-2 .9-2 2v14c0 1.1.9 2 2 2h14c1.1 0 2-.9 2-2V5c0-1.1-.9-2-2-2zM9 17H7v-7h2v7zm4 0h-2V7h2v10zm4 0h-2v-4h2v4z\"/>\n",
              "    </g>\n",
              "</svg>\n",
              "  </button>\n",
              "\n",
              "<style>\n",
              "  .colab-df-quickchart {\n",
              "      --bg-color: #E8F0FE;\n",
              "      --fill-color: #1967D2;\n",
              "      --hover-bg-color: #E2EBFA;\n",
              "      --hover-fill-color: #174EA6;\n",
              "      --disabled-fill-color: #AAA;\n",
              "      --disabled-bg-color: #DDD;\n",
              "  }\n",
              "\n",
              "  [theme=dark] .colab-df-quickchart {\n",
              "      --bg-color: #3B4455;\n",
              "      --fill-color: #D2E3FC;\n",
              "      --hover-bg-color: #434B5C;\n",
              "      --hover-fill-color: #FFFFFF;\n",
              "      --disabled-bg-color: #3B4455;\n",
              "      --disabled-fill-color: #666;\n",
              "  }\n",
              "\n",
              "  .colab-df-quickchart {\n",
              "    background-color: var(--bg-color);\n",
              "    border: none;\n",
              "    border-radius: 50%;\n",
              "    cursor: pointer;\n",
              "    display: none;\n",
              "    fill: var(--fill-color);\n",
              "    height: 32px;\n",
              "    padding: 0;\n",
              "    width: 32px;\n",
              "  }\n",
              "\n",
              "  .colab-df-quickchart:hover {\n",
              "    background-color: var(--hover-bg-color);\n",
              "    box-shadow: 0 1px 2px rgba(60, 64, 67, 0.3), 0 1px 3px 1px rgba(60, 64, 67, 0.15);\n",
              "    fill: var(--button-hover-fill-color);\n",
              "  }\n",
              "\n",
              "  .colab-df-quickchart-complete:disabled,\n",
              "  .colab-df-quickchart-complete:disabled:hover {\n",
              "    background-color: var(--disabled-bg-color);\n",
              "    fill: var(--disabled-fill-color);\n",
              "    box-shadow: none;\n",
              "  }\n",
              "\n",
              "  .colab-df-spinner {\n",
              "    border: 2px solid var(--fill-color);\n",
              "    border-color: transparent;\n",
              "    border-bottom-color: var(--fill-color);\n",
              "    animation:\n",
              "      spin 1s steps(1) infinite;\n",
              "  }\n",
              "\n",
              "  @keyframes spin {\n",
              "    0% {\n",
              "      border-color: transparent;\n",
              "      border-bottom-color: var(--fill-color);\n",
              "      border-left-color: var(--fill-color);\n",
              "    }\n",
              "    20% {\n",
              "      border-color: transparent;\n",
              "      border-left-color: var(--fill-color);\n",
              "      border-top-color: var(--fill-color);\n",
              "    }\n",
              "    30% {\n",
              "      border-color: transparent;\n",
              "      border-left-color: var(--fill-color);\n",
              "      border-top-color: var(--fill-color);\n",
              "      border-right-color: var(--fill-color);\n",
              "    }\n",
              "    40% {\n",
              "      border-color: transparent;\n",
              "      border-right-color: var(--fill-color);\n",
              "      border-top-color: var(--fill-color);\n",
              "    }\n",
              "    60% {\n",
              "      border-color: transparent;\n",
              "      border-right-color: var(--fill-color);\n",
              "    }\n",
              "    80% {\n",
              "      border-color: transparent;\n",
              "      border-right-color: var(--fill-color);\n",
              "      border-bottom-color: var(--fill-color);\n",
              "    }\n",
              "    90% {\n",
              "      border-color: transparent;\n",
              "      border-bottom-color: var(--fill-color);\n",
              "    }\n",
              "  }\n",
              "</style>\n",
              "\n",
              "  <script>\n",
              "    async function quickchart(key) {\n",
              "      const quickchartButtonEl =\n",
              "        document.querySelector('#' + key + ' button');\n",
              "      quickchartButtonEl.disabled = true;  // To prevent multiple clicks.\n",
              "      quickchartButtonEl.classList.add('colab-df-spinner');\n",
              "      try {\n",
              "        const charts = await google.colab.kernel.invokeFunction(\n",
              "            'suggestCharts', [key], {});\n",
              "      } catch (error) {\n",
              "        console.error('Error during call to suggestCharts:', error);\n",
              "      }\n",
              "      quickchartButtonEl.classList.remove('colab-df-spinner');\n",
              "      quickchartButtonEl.classList.add('colab-df-quickchart-complete');\n",
              "    }\n",
              "    (() => {\n",
              "      let quickchartButtonEl =\n",
              "        document.querySelector('#df-3a74a1cc-fa14-4f15-90d3-104c396c45a4 button');\n",
              "      quickchartButtonEl.style.display =\n",
              "        google.colab.kernel.accessAllowed ? 'block' : 'none';\n",
              "    })();\n",
              "  </script>\n",
              "</div>\n",
              "\n",
              "    </div>\n",
              "  </div>\n"
            ],
            "application/vnd.google.colaboratory.intrinsic+json": {
              "type": "dataframe",
              "variable_name": "df2",
              "summary": "{\n  \"name\": \"df2\",\n  \"rows\": 4140,\n  \"fields\": [\n    {\n      \"column\": \"price\",\n      \"properties\": {\n        \"dtype\": \"number\",\n        \"std\": 583686.452244269,\n        \"min\": 0.0,\n        \"max\": 26590000.0,\n        \"num_unique_values\": 1625,\n        \"samples\": [\n          322500.0,\n          349900.0,\n          364900.0\n        ],\n        \"semantic_type\": \"\",\n        \"description\": \"\"\n      }\n    },\n    {\n      \"column\": \"bedrooms\",\n      \"properties\": {\n        \"dtype\": \"number\",\n        \"std\": 0,\n        \"min\": 0,\n        \"max\": 8,\n        \"num_unique_values\": 9,\n        \"samples\": [\n          8,\n          4,\n          6\n        ],\n        \"semantic_type\": \"\",\n        \"description\": \"\"\n      }\n    },\n    {\n      \"column\": \"bathrooms\",\n      \"properties\": {\n        \"dtype\": \"number\",\n        \"std\": 0.7847330168593593,\n        \"min\": 0.0,\n        \"max\": 6.75,\n        \"num_unique_values\": 24,\n        \"samples\": [\n          1.5,\n          4.25,\n          2.0\n        ],\n        \"semantic_type\": \"\",\n        \"description\": \"\"\n      }\n    },\n    {\n      \"column\": \"sqft_living\",\n      \"properties\": {\n        \"dtype\": \"number\",\n        \"std\": 957,\n        \"min\": 370,\n        \"max\": 10040,\n        \"num_unique_values\": 549,\n        \"samples\": [\n          880,\n          3190,\n          4690\n        ],\n        \"semantic_type\": \"\",\n        \"description\": \"\"\n      }\n    },\n    {\n      \"column\": \"sqft_lot\",\n      \"properties\": {\n        \"dtype\": \"number\",\n        \"std\": 35876,\n        \"min\": 638,\n        \"max\": 1074218,\n        \"num_unique_values\": 2856,\n        \"samples\": [\n          5432,\n          9205,\n          6490\n        ],\n        \"semantic_type\": \"\",\n        \"description\": \"\"\n      }\n    },\n    {\n      \"column\": \"floors\",\n      \"properties\": {\n        \"dtype\": \"number\",\n        \"std\": 0.5349408589117917,\n        \"min\": 1.0,\n        \"max\": 3.5,\n        \"num_unique_values\": 6,\n        \"samples\": [\n          3.0,\n          2.0,\n          3.5\n        ],\n        \"semantic_type\": \"\",\n        \"description\": \"\"\n      }\n    },\n    {\n      \"column\": \"waterfront\",\n      \"properties\": {\n        \"dtype\": \"number\",\n        \"std\": 0,\n        \"min\": 0,\n        \"max\": 1,\n        \"num_unique_values\": 2,\n        \"samples\": [\n          1,\n          0\n        ],\n        \"semantic_type\": \"\",\n        \"description\": \"\"\n      }\n    },\n    {\n      \"column\": \"view\",\n      \"properties\": {\n        \"dtype\": \"number\",\n        \"std\": 0,\n        \"min\": 0,\n        \"max\": 4,\n        \"num_unique_values\": 5,\n        \"samples\": [\n          4,\n          3\n        ],\n        \"semantic_type\": \"\",\n        \"description\": \"\"\n      }\n    },\n    {\n      \"column\": \"condition\",\n      \"properties\": {\n        \"dtype\": \"number\",\n        \"std\": 0,\n        \"min\": 1,\n        \"max\": 5,\n        \"num_unique_values\": 5,\n        \"samples\": [\n          5,\n          1\n        ],\n        \"semantic_type\": \"\",\n        \"description\": \"\"\n      }\n    },\n    {\n      \"column\": \"sqft_above\",\n      \"properties\": {\n        \"dtype\": \"number\",\n        \"std\": 861,\n        \"min\": 370,\n        \"max\": 8020,\n        \"num_unique_values\": 491,\n        \"samples\": [\n          370,\n          1070\n        ],\n        \"semantic_type\": \"\",\n        \"description\": \"\"\n      }\n    },\n    {\n      \"column\": \"sqft_basement\",\n      \"properties\": {\n        \"dtype\": \"number\",\n        \"std\": 464,\n        \"min\": 0,\n        \"max\": 4820,\n        \"num_unique_values\": 205,\n        \"samples\": [\n          90,\n          620\n        ],\n        \"semantic_type\": \"\",\n        \"description\": \"\"\n      }\n    },\n    {\n      \"column\": \"yr_built\",\n      \"properties\": {\n        \"dtype\": \"number\",\n        \"std\": 29,\n        \"min\": 1900,\n        \"max\": 2014,\n        \"num_unique_values\": 115,\n        \"samples\": [\n          1998,\n          2003\n        ],\n        \"semantic_type\": \"\",\n        \"description\": \"\"\n      }\n    }\n  ]\n}"
            }
          },
          "metadata": {},
          "execution_count": 227
        }
      ]
    },
    {
      "cell_type": "code",
      "source": [
        "import pandas as pd\n",
        "import numpy as np\n",
        "from sklearn.tree import DecisionTreeRegressor\n",
        "from sklearn.tree import plot_tree\n",
        "import matplotlib.pyplot as plt"
      ],
      "metadata": {
        "id": "UqG249IlyOXi"
      },
      "execution_count": null,
      "outputs": []
    },
    {
      "cell_type": "code",
      "source": [
        "target_variable = \"price\"\n",
        "#target"
      ],
      "metadata": {
        "id": "YbJINwNTMpSk"
      },
      "execution_count": null,
      "outputs": []
    },
    {
      "cell_type": "code",
      "source": [
        "def mean_squared_error(y_true, y_pred):\n",
        "    return np.mean((y_true - y_pred) ** 2)\n",
        "#mean squared error function\n",
        "#difference between the predicted and actual values\n",
        "#calculates the mean squared error\n",
        "#np mean is the average of all the squares"
      ],
      "metadata": {
        "id": "2dcTyNXUblSp"
      },
      "execution_count": null,
      "outputs": []
    },
    {
      "cell_type": "code",
      "source": [
        "def best_split(attribute, target):\n",
        "    unique_values = np.unique(attribute) #get all unique vals from attribute\n",
        "    best_mse = float('inf') #positive infinity to store lowest mse so far\n",
        "    best_value = None #stores the lowest mse overall\n",
        "\n",
        "    for value in unique_values:#goes through eah unique value\n",
        "        left_mask = attribute <= value #boolean mask is true when attribute is <= current value\n",
        "        right_mask = attribute > value #opposite of the other one duh\n",
        "\n",
        "        if np.any(left_mask) and np.any(right_mask): #makes sure there is one point left and right\n",
        "            y_left = target[left_mask] #gets the target vals that match the data in the left\n",
        "            y_right = target[right_mask] #the opposite\n",
        "            mse = (mean_squared_error(y_left, y_left.mean()) * len(y_left) +\n",
        "                   mean_squared_error(y_right, y_right.mean()) * len(y_right)) / len(target)\n",
        "            #stupid math you can probably do ina better way than my small brain\n",
        "            #cal the weighted avg for the split, did it for left and right and then combione them based on num of datapoints in each subset\n",
        "            #crazy that the comment is shorter than that dumb math\n",
        "            #pls simplify this\n",
        "            if mse < best_mse: #i feel like i dont need to explain this to you fat brain\n",
        "                best_mse = mse\n",
        "                best_value = value\n",
        "\n",
        "    return best_value, best_mse #same with this\n"
      ],
      "metadata": {
        "id": "pUbmKeM1bvss"
      },
      "execution_count": null,
      "outputs": []
    },
    {
      "cell_type": "code",
      "source": [
        "def Attribute_selection_method(task, dataset, target_variable): #find the best attribute to split on\n",
        "\n",
        "\n",
        "\n",
        "    df = pd.DataFrame(dataset) # convert dataset into pandas\n",
        "\n",
        "\n",
        "    X = df.drop(columns=[target_variable]) #new dataset that doesnt have price\n",
        "    y = df[target_variable].values # target varibale into numpy array\n",
        "\n",
        "    best_overall_mse = float('inf') #same as when i did this earleir\n",
        "    best_attribute = None #also same\n",
        "\n",
        "    for column in X.columns: #goes through each attribute in x\n",
        "        value, mse = best_split(X[column].values, y) #calls best split to find best split on current column\n",
        "        if mse < best_overall_mse:#durp durp durp durp durp duhhhhhhhhh\n",
        "            best_overall_mse = mse\n",
        "            best_attribute = column\n",
        "\n",
        "\n",
        "    tree_model = DecisionTreeRegressor(max_depth=1)\n",
        "    tree_model.fit(X, y)\n",
        "\n",
        "    first_split_attribute = X.columns[tree_model.tree_.feature[0]]\n",
        "\n",
        "    return best_attribute, first_split_attribute, tree_model #return best attribute and first split"
      ],
      "metadata": {
        "id": "fX7FzAZGb-ZJ"
      },
      "execution_count": null,
      "outputs": []
    },
    {
      "cell_type": "code",
      "source": [
        "url = \"https://raw.githubusercontent.com/jhbellingrath/CS-290-Classwork/refs/heads/main/data/Housing_Prices.csv\"\n",
        "data = pd.read_csv(url)\n",
        "#getting data cuhhhhh"
      ],
      "metadata": {
        "id": "08y4-Fr2cDLU"
      },
      "execution_count": null,
      "outputs": []
    },
    {
      "cell_type": "code",
      "source": [
        "task = \"regression\"\n",
        "#define the task"
      ],
      "metadata": {
        "id": "V4KGZ-BMzzN9"
      },
      "execution_count": null,
      "outputs": []
    },
    {
      "cell_type": "code",
      "source": [
        "best_attribute, first_split ,tree_model = Attribute_selection_method(task, data, target_variable)\n",
        "print(\"Best attribute for split:\", best_attribute)\n",
        "print(\"First split by DecisionTreeRegressor:\", first_split)\n",
        "#printing all my stuff yurrrrr\n",
        "#still not sure if this is how to use sklearn or not but its probably chill"
      ],
      "metadata": {
        "colab": {
          "base_uri": "https://localhost:8080/"
        },
        "id": "YWVpOBNGcFXO",
        "outputId": "54f13daa-a026-439e-a258-01622cd42892"
      },
      "execution_count": null,
      "outputs": [
        {
          "output_type": "stream",
          "name": "stdout",
          "text": [
            "Best attribute for split: sqft_living\n",
            "First split by DecisionTreeRegressor: sqft_living\n"
          ]
        }
      ]
    },
    {
      "cell_type": "code",
      "source": [
        "plt.figure(figsize=(10, 6))\n",
        "plot_tree(tree_model, feature_names=X.columns, filled=True)\n",
        "plt.title(\"Decision Tree Visualization\")\n",
        "plt.show()"
      ],
      "metadata": {
        "colab": {
          "base_uri": "https://localhost:8080/",
          "height": 521
        },
        "id": "BnkB86fhvTwE",
        "outputId": "cb435dfe-fd57-4232-bb39-084f7977f5d7"
      },
      "execution_count": null,
      "outputs": [
        {
          "output_type": "display_data",
          "data": {
            "text/plain": [
              "<Figure size 1000x600 with 1 Axes>"
            ],
            "image/png": "[encoded data removed]"
          },
          "metadata": {}
        }
      ]
    }
  ]
}