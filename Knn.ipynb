{
  "nbformat": 4,
  "nbformat_minor": 0,
  "metadata": {
    "colab": {
      "provenance": [],
      "authorship_tag": "ABX9TyPJjLOK9ls3tmBpkiq5NBuH",
      "include_colab_link": true
    },
    "kernelspec": {
      "name": "python3",
      "display_name": "Python 3"
    },
    "language_info": {
      "name": "python"
    }
  },
  "cells": [
    {
      "cell_type": "markdown",
      "metadata": {
        "id": "view-in-github",
        "colab_type": "text"
      },
      "source": [
        "<a href=\"https://colab.research.google.com/github/CamdenBert/CSCI290/blob/main/Knn.ipynb\" target=\"_parent\"><img src=\"https://colab.research.google.com/assets/colab-badge.svg\" alt=\"Open In Colab\"/></a>"
      ]
    },
    {
      "cell_type": "code",
      "execution_count": null,
      "metadata": {
        "id": "GOpPxwmTLI5n"
      },
      "outputs": [],
      "source": [
        "import pandas as pd\n",
        "import numpy as np\n",
        "from sklearn.model_selection import train_test_split\n",
        "from collections import counter\n"
      ]
    },
    {
      "cell_type": "code",
      "source": [
        "x_train, x_test, y_train, y_test = train_test_split(x, y, test_size=0.2, random_state=40)"
      ],
      "metadata": {
        "id": "s_TwSD8hLY9R"
      },
      "execution_count": null,
      "outputs": []
    },
    {
      "cell_type": "code",
      "source": [
        "def euclidean_distance(x1, x2):\n",
        "    distance = np.sqrt(np.sum((x1-x2)**2))"
      ],
      "metadata": {
        "id": "ifBY0GgHLfeM"
      },
      "execution_count": null,
      "outputs": []
    },
    {
      "cell_type": "code",
      "source": [
        "euclidean_distance(x_train.iloc[0], x_train.iloc[1])"
      ],
      "metadata": {
        "id": "7y4cL4RYLkR8"
      },
      "execution_count": null,
      "outputs": []
    },
    {
      "cell_type": "code",
      "source": [
        "def get_neighbors(x_train, y_train, x, k):\n",
        "  distances = []\n",
        "  for i in range(len(x_train)):\n",
        "    distance = euclidean_distance(x_train.iloc[i], x)\n",
        "    distances.append((distance, y_train.iloc[i]))\n",
        "  distances.sort()\n",
        "  neighbors = [label for distance, label in distances[:k]]\n",
        "  return neighbors"
      ],
      "metadata": {
        "id": "91J9xx5SLxWt"
      },
      "execution_count": 2,
      "outputs": []
    },
    {
      "cell_type": "code",
      "source": [
        "def predict (x_train, y_train, x_test, k):\n",
        "  predictions =[]\n",
        "  for i in range(len(x_test)):\n",
        "    neighbors = get_neighbors(x_train, y_train, x_test.iloc[i], k)\n",
        "    prediction = counter (neighbors).most_common(1)[0][0]\n",
        "    predictions.append(prediction)\n",
        "  return predictions"
      ],
      "metadata": {
        "id": "YahvlaytMRdG"
      },
      "execution_count": null,
      "outputs": []
    },
    {
      "cell_type": "code",
      "source": [],
      "metadata": {
        "id": "poLwVgK_L50s"
      },
      "execution_count": null,
      "outputs": []
    }
  ]
}